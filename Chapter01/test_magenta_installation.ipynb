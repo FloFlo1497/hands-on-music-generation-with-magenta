{
 "cells": [
  {
   "cell_type": "code",
   "execution_count": 1,
   "outputs": [
    {
     "name": "stderr",
     "text": [
      "WARNING: Logging before flag parsing goes to stderr.\nW0720 14:46:42.911628 140106652473152 deprecation_wrapper.py:119] From /home/alex/miniconda3/envs/magenta/lib/python3.5/site-packages/magenta/pipelines/statistics.py:132: The name tf.logging.info is deprecated. Please use tf.compat.v1.logging.info instead.\n\n",
      "W0720 14:46:43.621308 140106652473152 deprecation_wrapper.py:119] From /home/alex/miniconda3/envs/magenta/lib/python3.5/site-packages/magenta/music/note_sequence_io.py:60: The name tf.python_io.TFRecordWriter is deprecated. Please use tf.io.TFRecordWriter instead.\n\n"
     ],
     "output_type": "stream"
    },
    {
     "name": "stdout",
     "text": [
      "Installed tensorflow version 1.14.0\nInstalled magenta version 1.1.2\n"
     ],
     "output_type": "stream"
    }
   ],
   "source": [
    "import tensorflow\n",
    "import magenta\n",
    "\n",
    "print(\"Installed tensorflow version \" + tensorflow.__version__)\n",
    "print(\"Installed magenta version \" + magenta.__version__)\n"
   ],
   "metadata": {
    "collapsed": false,
    "pycharm": {
     "name": "#%%\n",
     "is_executing": false
    }
   }
  }
 ],
 "metadata": {
  "kernelspec": {
   "name": "pycharm-c3450ad0",
   "language": "python",
   "display_name": "PyCharm (hands-on-music-generation-with-magenta)"
  },
  "language_info": {
   "codemirror_mode": {
    "name": "ipython",
    "version": 3
   },
   "file_extension": ".py",
   "mimetype": "text/x-python",
   "name": "python",
   "nbconvert_exporter": "python",
   "pygments_lexer": "ipython3",
   "version": "3.5.6"
  },
  "pycharm": {
   "stem_cell": {
    "cell_type": "raw",
    "source": [],
    "metadata": {
     "collapsed": false
    }
   }
  }
 },
 "nbformat": 4,
 "nbformat_minor": 2
}